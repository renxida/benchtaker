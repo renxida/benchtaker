{
 "cells": [
  {
   "cell_type": "code",
   "execution_count": 1,
   "id": "f0bb1367-40b2-49d3-a8b3-276a20b8eeb0",
   "metadata": {},
   "outputs": [],
   "source": [
    "import glob"
   ]
  },
  {
   "cell_type": "code",
   "execution_count": 3,
   "id": "309078d6-b144-4d94-9282-6b96541bcba1",
   "metadata": {},
   "outputs": [],
   "source": []
  },
  {
   "cell_type": "code",
   "execution_count": 6,
   "id": "c98922c7-ccf7-4405-9ac2-c13e24968ec5",
   "metadata": {},
   "outputs": [],
   "source": [
    "import pandas as pd\n",
    "import numpy as np"
   ]
  },
  {
   "cell_type": "code",
   "execution_count": 41,
   "id": "c44a3965-ad7a-4bc5-8a2d-0b3654809cd3",
   "metadata": {},
   "outputs": [],
   "source": [
    "l = logging.getLogger()"
   ]
  },
  {
   "cell_type": "code",
   "execution_count": 49,
   "id": "7be8e742-1112-42a4-8505-417021e1c0d5",
   "metadata": {},
   "outputs": [],
   "source": [
    "l.setLevel('WARNING')"
   ]
  },
  {
   "cell_type": "code",
   "execution_count": 43,
   "id": "d7c95d6b-75d1-454e-af31-205ed10b49cb",
   "metadata": {},
   "outputs": [
    {
     "name": "stderr",
     "output_type": "stream",
     "text": [
      "DEBUG:root:Note: pts-out/compress-lzma/perf-output.csv was empty. Skipping.\n",
      "DEBUG:root:Note: pts-out/compress-pbzip2/perf-output.csv was empty. Skipping.\n"
     ]
    },
    {
     "name": "stdout",
     "output_type": "stream",
     "text": [
      "pts-out/sqlite/perf-output.csv\n",
      "pts-out/c-ray/perf-output.csv\n",
      "pts-out/mafft/perf-output.csv\n",
      "pts-out/blender/perf-output.csv\n",
      "pts-out/openssl/perf-output.csv\n",
      "pts-out/gnupg/perf-output.csv\n",
      "pts-out/redis/perf-output.csv\n",
      "pts-out/compress-lzma/perf-output.csv\n",
      "pts-out/ffmpeg/perf-output.csv\n",
      "pts-out/asmfish/perf-output.csv\n",
      "pts-out/pgbench/perf-output.csv\n",
      "pts-out/compress-pbzip2/perf-output.csv\n",
      "pts-out/build-linux-kernel/perf-output.csv\n",
      "pts-out/encode-flac/perf-output.csv\n"
     ]
    }
   ],
   "source": [
    "\n",
    "\n",
    "len(df)\n",
    "\n",
    "len(df.columns)\n",
    "\n",
    "len(columns)\n",
    "dfs = []\n",
    "for fn in glob.iglob('pts-out/*/perf-output.csv'):\n",
    "    _, benchname, _ = fn.split('/')\n",
    "    print(fn)\n",
    "    \n",
    "    try:\n",
    "        df = pd.read_csv(fn, comment='#', skip_blank_lines=True,)\n",
    "\n",
    "    except pd.errors.EmptyDataError:\n",
    "        l.debug(f'Note: {fn} was empty. Skipping.')\n",
    "        continue # will skip the rest of the block and move to next file\n",
    "    \n",
    "    \n",
    "\n",
    "\n",
    "\n",
    "    # order inferred from documentation of perf stat; look at the CSV format section\n",
    "    df.columns = [\n",
    "        'timestamp',\n",
    "        'value',\n",
    "        'unknown0',\n",
    "        'counter',\n",
    "        'cycles collected',\n",
    "        'percentage collected',\n",
    "        'unknown1',\n",
    "        'unknown2'\n",
    "    ]\n",
    "\n",
    "\n",
    "\n",
    "\n",
    "    assert np.all(df.unknown0.isna())\n",
    "    assert np.all(df.unknown1.isna())\n",
    "    assert np.all(df.unknown2.isna())\n",
    "    df['workload']=benchname\n",
    "    df = df[\n",
    "        ['workload','timestamp','value','counter']\n",
    "    ]\n",
    "    dfs.append(df)"
   ]
  },
  {
   "cell_type": "code",
   "execution_count": 71,
   "id": "44e5e98f-0626-457f-b7f3-f22f088d86a4",
   "metadata": {},
   "outputs": [
    {
     "data": {
      "text/plain": [
       "([0, 1, 2, 3, 4, 5, 6, 7, 8, 9, 10, 11],\n",
       " [Text(0, 0, ''),\n",
       "  Text(0, 0, ''),\n",
       "  Text(0, 0, ''),\n",
       "  Text(0, 0, ''),\n",
       "  Text(0, 0, ''),\n",
       "  Text(0, 0, ''),\n",
       "  Text(0, 0, ''),\n",
       "  Text(0, 0, ''),\n",
       "  Text(0, 0, ''),\n",
       "  Text(0, 0, ''),\n",
       "  Text(0, 0, ''),\n",
       "  Text(0, 0, '')])"
      ]
     },
     "execution_count": 71,
     "metadata": {},
     "output_type": "execute_result"
    },
    {
     "data": {
      "image/png": "[encoded data removed]",
      "text/plain": [
       "<Figure size 432x288 with 1 Axes>"
      ]
     },
     "metadata": {
      "needs_background": "light"
     },
     "output_type": "display_data"
    }
   ],
   "source": [
    "from matplotlib import pyplot as plt\n",
    "\n",
    "from collections import Counter\n",
    "\n",
    "c = Counter(df.workload)\n",
    "\n",
    "x = c.items()\n",
    "\n",
    "list(x)\n",
    "\n",
    "dd = sorted(x, key=lambda a:a[1])\n",
    "\n",
    "dd\n",
    "\n",
    "plt.bar(*zip(*dd),)\n",
    "plt.xticks(rotation=90)"
   ]
  },
  {
   "cell_type": "code",
   "execution_count": 51,
   "id": "cff98232-1f96-4f0b-9c5a-b22f1f4e9b80",
   "metadata": {},
   "outputs": [],
   "source": [
    "df = pd.concat(dfs)"
   ]
  },
  {
   "cell_type": "code",
   "execution_count": null,
   "id": "c09830e2-9847-4904-a210-59e1a93af764",
   "metadata": {},
   "outputs": [],
   "source": []
  },
  {
   "cell_type": "code",
   "execution_count": null,
   "id": "5eac3686-87f4-4997-a658-5999c3e1a602",
   "metadata": {},
   "outputs": [],
   "source": []
  }
 ],
 "metadata": {
  "kernelspec": {
   "display_name": "Python 3 (ipykernel)",
   "language": "python",
   "name": "python3"
  },
  "language_info": {
   "codemirror_mode": {
    "name": "ipython",
    "version": 3
   },
   "file_extension": ".py",
   "mimetype": "text/x-python",
   "name": "python",
   "nbconvert_exporter": "python",
   "pygments_lexer": "ipython3",
   "version": "3.9.7"
  }
 },
 "nbformat": 4,
 "nbformat_minor": 5
}
